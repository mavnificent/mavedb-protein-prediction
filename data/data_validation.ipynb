{
 "cells": [
  {
   "cell_type": "code",
   "execution_count": 7,
   "id": "0bd88df8",
   "metadata": {},
   "outputs": [],
   "source": [
    "import requests, sys\n",
    "import pandas as pd\n",
    "import time\n",
    "from tqdm import tqdm"
   ]
  },
  {
   "cell_type": "code",
   "execution_count": 8,
   "id": "120cd554",
   "metadata": {},
   "outputs": [],
   "source": [
    "def get_ensembl_id_json(ensembl_id: str):\n",
    "    server = \"https://rest.ensembl.org\"\n",
    "    ext = f\"/sequence/id/{ensembl_id}\"\n",
    " \n",
    "    r = requests.get(server+ext, headers={ \"Content-Type\" : \"application/json\"})\n",
    "    \n",
    "    if not r.ok:\n",
    "        r.raise_for_status()\n",
    "        sys.exit()\n",
    "    \n",
    "    decoded = r.json()\n",
    "    return decoded"
   ]
  },
  {
   "cell_type": "code",
   "execution_count": 9,
   "id": "7bea869b",
   "metadata": {},
   "outputs": [
    {
     "data": {
      "text/plain": [
       "{'desc': None,\n",
       " 'version': 3,\n",
       " 'molecule': 'protein',\n",
       " 'query': 'ENSP00000252519',\n",
       " 'seq': 'MSSSSWLLLSLVAVTAAQSTIEEQAKTFLDKFNHEAEDLFYQSSLASWNYNTNITEENVQNMNNAGDKWSAFLKEQSTLAQMYPLQEIQNLTVKLQLQALQQNGSSVLSEDKSKRLNTILNTMSTIYSTGKVCNPDNPQECLLLEPGLNEIMANSLDYNERLWAWESWRSEVGKQLRPLYEEYVVLKNEMARANHYEDYGDYWRGDYEVNGVDGYDYSRGQLIEDVEHTFEEIKPLYEHLHAYVRAKLMNAYPSYISPIGCLPAHLLGDMWGRFWTNLYSLTVPFGQKPNIDVTDAMVDQAWDAQRIFKEAEKFFVSVGLPNMTQGFWENSMLTDPGNVQKAVCHPTAWDLGKGDFRILMCTKVTMDDFLTAHHEMGHIQYDMAYAAQPFLLRNGANEGFHEAVGEIMSLSAATPKHLKSIGLLSPDFQEDNETEINFLLKQALTIVGTLPFTYMLEKWRWMVFKGEIPKDQWMKKWWEMKREIVGVVEPVPHDETYCDPASLFHVSNDYSFIRYYTRTLYQFQFQEALCQAAKHEGPLHKCDISNSTEAGQKLFNMLRLGKSEPWTLALENVVGAKNMNVRPLLNYFEPLFTWLKDQNKNSFVGWSTDWSPYADQSIKVRISLKSALGDKAYEWNDNEMYLFRSSVAYAMRQYFLKVKNQMILFGEEDVRVANLKPRISFNFFVTAPKNVSDIIPRTEVEKAIRMSRSRINDAFRLNDNSLEFLGIQPTLGPPNQPPVSIWLIVFGVVMGVIVVGIVILIFTGIRDRKKKNKARSGENPYASIDISKGENNPGFQNTDDVQTSF',\n",
       " 'id': 'ENSP00000252519'}"
      ]
     },
     "execution_count": 9,
     "metadata": {},
     "output_type": "execute_result"
    }
   ],
   "source": [
    "get_ensembl_id_json(\"ENSP00000252519\")"
   ]
  },
  {
   "cell_type": "code",
   "execution_count": 10,
   "id": "a72e375a",
   "metadata": {},
   "outputs": [],
   "source": [
    "train_set = pd.read_csv('train.csv')"
   ]
  },
  {
   "cell_type": "code",
   "execution_count": 11,
   "id": "2609d4c2",
   "metadata": {},
   "outputs": [
    {
     "data": {
      "text/plain": [
       "136"
      ]
     },
     "execution_count": 11,
     "metadata": {},
     "output_type": "execute_result"
    }
   ],
   "source": [
    "len(train_set['ensp'].unique())"
   ]
  },
  {
   "cell_type": "code",
   "execution_count": 12,
   "id": "3999f6e6",
   "metadata": {},
   "outputs": [
    {
     "data": {
      "text/plain": [
       "136"
      ]
     },
     "execution_count": 12,
     "metadata": {},
     "output_type": "execute_result"
    }
   ],
   "source": [
    "len(train_set['ensp'].str.split('.').str[0].unique())"
   ]
  },
  {
   "cell_type": "code",
   "execution_count": 14,
   "id": "2b32b41c",
   "metadata": {},
   "outputs": [],
   "source": [
    "protein_json_dict = {}"
   ]
  },
  {
   "cell_type": "code",
   "execution_count": 15,
   "id": "2854d123",
   "metadata": {},
   "outputs": [
    {
     "name": "stderr",
     "output_type": "stream",
     "text": [
      "100%|██████████| 178554/178554 [01:40<00:00, 1780.70it/s]\n"
     ]
    }
   ],
   "source": [
    "for id, version in tqdm(train_set['ensp'].str.split('.')):\n",
    "    if id not in protein_json_dict.keys():\n",
    "        time.sleep(0.08)\n",
    "        protein_json_dict[id] = get_ensembl_id_json(id)\n",
    "    \n",
    "    if protein_json_dict[id]['version'] != int(version):\n",
    "        print(f\"mismatch at id {id}, version {protein_json_dict[id]['version']} and version {version}.\")"
   ]
  }
 ],
 "metadata": {
  "kernelspec": {
   "display_name": "data_science",
   "language": "python",
   "name": "python3"
  },
  "language_info": {
   "codemirror_mode": {
    "name": "ipython",
    "version": 3
   },
   "file_extension": ".py",
   "mimetype": "text/x-python",
   "name": "python",
   "nbconvert_exporter": "python",
   "pygments_lexer": "ipython3",
   "version": "3.12.0"
  }
 },
 "nbformat": 4,
 "nbformat_minor": 5
}
